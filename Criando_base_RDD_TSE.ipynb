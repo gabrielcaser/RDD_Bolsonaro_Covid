{
 "cells": [
  {
   "cell_type": "markdown",
   "metadata": {
    "id": "zvUIFwlvJP_K"
   },
   "source": [
    "# Gerando Base de Dados dos Municípios de SP que elegeram um prefeito de alinhamento político diferente do segundo colocado"
   ]
  },
  {
   "cell_type": "markdown",
   "metadata": {},
   "source": [
    "# Configurando o ambiente"
   ]
  },
  {
   "cell_type": "code",
   "execution_count": 35,
   "metadata": {
    "id": "xTn9pfvDnl5W"
   },
   "outputs": [],
   "source": [
    "import pandas as pd\n",
    "import basedosdados as bd"
   ]
  },
  {
   "cell_type": "markdown",
   "metadata": {
    "id": "BJMGn6K1odGE"
   },
   "source": [
    "## Importando a Base de Prefeitos Eleitos"
   ]
  },
  {
   "cell_type": "code",
   "execution_count": 36,
   "metadata": {},
   "outputs": [
    {
     "name": "stderr",
     "output_type": "stream",
     "text": [
      "Downloading: 100%|█████████████████████████████████████████████████████████████| 2484/2484 [00:00<00:00, 2677.42rows/s]\n"
     ]
    }
   ],
   "source": [
    "query = \"\"\" SELECT * FROM `basedosdados.br_tse_eleicoes.resultados_candidato_municipio`\n",
    "            WHERE ano = 2020\n",
    "            AND sigla_uf = 'SP'\n",
    "            AND cargo = 'prefeito' \"\"\"\n",
    "\n",
    "df_prefeitosSP = bd.read_sql(query, billing_project_id= \"econometria-314719\")"
   ]
  },
  {
   "cell_type": "markdown",
   "metadata": {
    "id": "zm5L5DkIdBjB"
   },
   "source": [
    "# Criando Base para RDD"
   ]
  },
  {
   "cell_type": "markdown",
   "metadata": {
    "id": "21RoDhuUdFj6"
   },
   "source": [
    "## Queries Prefeitos de SP eleitos no segundo turno de 2020\n",
    "\n",
    "\n",
    "\n",
    "\n"
   ]
  },
  {
   "cell_type": "code",
   "execution_count": 37,
   "metadata": {
    "colab": {
     "base_uri": "https://localhost:8080/"
    },
    "executionInfo": {
     "elapsed": 417,
     "status": "ok",
     "timestamp": 1631907087662,
     "user": {
      "displayName": "Gabriel Caser",
      "photoUrl": "https://lh3.googleusercontent.com/a/default-user=s64",
      "userId": "03317079334303582914"
     },
     "user_tz": 180
    },
    "id": "DmZ4TjI9iW-D",
    "outputId": "c9834abd-9e51-451d-f0a3-3d6f7a1c8831"
   },
   "outputs": [
    {
     "data": {
      "text/plain": [
       "(2484, 13)"
      ]
     },
     "execution_count": 37,
     "metadata": {},
     "output_type": "execute_result"
    }
   ],
   "source": [
    "df_prefeitosSP.shape"
   ]
  },
  {
   "cell_type": "code",
   "execution_count": 38,
   "metadata": {
    "colab": {
     "base_uri": "https://localhost:8080/"
    },
    "executionInfo": {
     "elapsed": 152,
     "status": "ok",
     "timestamp": 1631907087665,
     "user": {
      "displayName": "Gabriel Caser",
      "photoUrl": "https://lh3.googleusercontent.com/a/default-user=s64",
      "userId": "03317079334303582914"
     },
     "user_tz": 180
    },
    "id": "GdZsvTe0ilmH",
    "outputId": "8df63c60-19dd-42bc-b8c6-6b1d2d899fea"
   },
   "outputs": [
    {
     "data": {
      "text/plain": [
       "(644,)"
      ]
     },
     "execution_count": 38,
     "metadata": {},
     "output_type": "execute_result"
    }
   ],
   "source": [
    "df_prefeitosSP[\"id_municipio_tse\"].unique().shape"
   ]
  },
  {
   "cell_type": "code",
   "execution_count": 39,
   "metadata": {
    "colab": {
     "base_uri": "https://localhost:8080/",
     "height": 202
    },
    "executionInfo": {
     "elapsed": 137,
     "status": "ok",
     "timestamp": 1631907087668,
     "user": {
      "displayName": "Gabriel Caser",
      "photoUrl": "https://lh3.googleusercontent.com/a/default-user=s64",
      "userId": "03317079334303582914"
     },
     "user_tz": 180
    },
    "id": "-B_NqFHtHXVT",
    "outputId": "3d157986-ef36-4c3c-cb63-c17743081740"
   },
   "outputs": [
    {
     "data": {
      "text/html": [
       "<div>\n",
       "<style scoped>\n",
       "    .dataframe tbody tr th:only-of-type {\n",
       "        vertical-align: middle;\n",
       "    }\n",
       "\n",
       "    .dataframe tbody tr th {\n",
       "        vertical-align: top;\n",
       "    }\n",
       "\n",
       "    .dataframe thead th {\n",
       "        text-align: right;\n",
       "    }\n",
       "</style>\n",
       "<table border=\"1\" class=\"dataframe\">\n",
       "  <thead>\n",
       "    <tr style=\"text-align: right;\">\n",
       "      <th></th>\n",
       "      <th>ano</th>\n",
       "      <th>turno</th>\n",
       "      <th>tipo_eleicao</th>\n",
       "      <th>sigla_uf</th>\n",
       "      <th>id_municipio</th>\n",
       "      <th>id_municipio_tse</th>\n",
       "      <th>cargo</th>\n",
       "      <th>sigla_partido</th>\n",
       "      <th>numero_candidato</th>\n",
       "      <th>sequencial_candidato</th>\n",
       "      <th>id_candidato_bd</th>\n",
       "      <th>resultado</th>\n",
       "      <th>votos</th>\n",
       "    </tr>\n",
       "  </thead>\n",
       "  <tbody>\n",
       "    <tr>\n",
       "      <th>0</th>\n",
       "      <td>2020</td>\n",
       "      <td>1</td>\n",
       "      <td>eleicao ordinaria</td>\n",
       "      <td>SP</td>\n",
       "      <td>3500105</td>\n",
       "      <td>61018</td>\n",
       "      <td>prefeito</td>\n",
       "      <td>DEM</td>\n",
       "      <td>25</td>\n",
       "      <td>250001018914</td>\n",
       "      <td>1006655</td>\n",
       "      <td>eleito</td>\n",
       "      <td>11863</td>\n",
       "    </tr>\n",
       "    <tr>\n",
       "      <th>1</th>\n",
       "      <td>2020</td>\n",
       "      <td>1</td>\n",
       "      <td>eleicao ordinaria</td>\n",
       "      <td>SP</td>\n",
       "      <td>3500105</td>\n",
       "      <td>61018</td>\n",
       "      <td>prefeito</td>\n",
       "      <td>PSD</td>\n",
       "      <td>55</td>\n",
       "      <td>250001085198</td>\n",
       "      <td>1305529</td>\n",
       "      <td>nao eleito</td>\n",
       "      <td>3367</td>\n",
       "    </tr>\n",
       "    <tr>\n",
       "      <th>2</th>\n",
       "      <td>2020</td>\n",
       "      <td>1</td>\n",
       "      <td>eleicao ordinaria</td>\n",
       "      <td>SP</td>\n",
       "      <td>3500204</td>\n",
       "      <td>61034</td>\n",
       "      <td>prefeito</td>\n",
       "      <td>MDB</td>\n",
       "      <td>15</td>\n",
       "      <td>250001167312</td>\n",
       "      <td>418658</td>\n",
       "      <td>nao eleito</td>\n",
       "      <td>1217</td>\n",
       "    </tr>\n",
       "    <tr>\n",
       "      <th>3</th>\n",
       "      <td>2020</td>\n",
       "      <td>1</td>\n",
       "      <td>eleicao ordinaria</td>\n",
       "      <td>SP</td>\n",
       "      <td>3500204</td>\n",
       "      <td>61034</td>\n",
       "      <td>prefeito</td>\n",
       "      <td>PSDB</td>\n",
       "      <td>45</td>\n",
       "      <td>250001093392</td>\n",
       "      <td>927307</td>\n",
       "      <td>eleito</td>\n",
       "      <td>2087</td>\n",
       "    </tr>\n",
       "    <tr>\n",
       "      <th>4</th>\n",
       "      <td>2020</td>\n",
       "      <td>1</td>\n",
       "      <td>eleicao ordinaria</td>\n",
       "      <td>SP</td>\n",
       "      <td>3500303</td>\n",
       "      <td>61050</td>\n",
       "      <td>prefeito</td>\n",
       "      <td>PSDB</td>\n",
       "      <td>45</td>\n",
       "      <td>250000846054</td>\n",
       "      <td>1323085</td>\n",
       "      <td>eleito</td>\n",
       "      <td>9120</td>\n",
       "    </tr>\n",
       "  </tbody>\n",
       "</table>\n",
       "</div>"
      ],
      "text/plain": [
       "    ano  turno       tipo_eleicao sigla_uf id_municipio id_municipio_tse  \\\n",
       "0  2020      1  eleicao ordinaria       SP      3500105            61018   \n",
       "1  2020      1  eleicao ordinaria       SP      3500105            61018   \n",
       "2  2020      1  eleicao ordinaria       SP      3500204            61034   \n",
       "3  2020      1  eleicao ordinaria       SP      3500204            61034   \n",
       "4  2020      1  eleicao ordinaria       SP      3500303            61050   \n",
       "\n",
       "      cargo sigla_partido numero_candidato sequencial_candidato  \\\n",
       "0  prefeito           DEM               25         250001018914   \n",
       "1  prefeito           PSD               55         250001085198   \n",
       "2  prefeito           MDB               15         250001167312   \n",
       "3  prefeito          PSDB               45         250001093392   \n",
       "4  prefeito          PSDB               45         250000846054   \n",
       "\n",
       "  id_candidato_bd   resultado  votos  \n",
       "0         1006655      eleito  11863  \n",
       "1         1305529  nao eleito   3367  \n",
       "2          418658  nao eleito   1217  \n",
       "3          927307      eleito   2087  \n",
       "4         1323085      eleito   9120  "
      ]
     },
     "execution_count": 39,
     "metadata": {},
     "output_type": "execute_result"
    }
   ],
   "source": [
    "df_prefeitosSP.head()"
   ]
  },
  {
   "cell_type": "code",
   "execution_count": 40,
   "metadata": {
    "colab": {
     "base_uri": "https://localhost:8080/",
     "height": 110
    },
    "executionInfo": {
     "elapsed": 134,
     "status": "ok",
     "timestamp": 1631907087671,
     "user": {
      "displayName": "Gabriel Caser",
      "photoUrl": "https://lh3.googleusercontent.com/a/default-user=s64",
      "userId": "03317079334303582914"
     },
     "user_tz": 180
    },
    "id": "f_X5_22hH8fn",
    "outputId": "a0c58641-f762-4e46-a9ab-6836dd18b08c"
   },
   "outputs": [
    {
     "data": {
      "text/html": [
       "<div>\n",
       "<style scoped>\n",
       "    .dataframe tbody tr th:only-of-type {\n",
       "        vertical-align: middle;\n",
       "    }\n",
       "\n",
       "    .dataframe tbody tr th {\n",
       "        vertical-align: top;\n",
       "    }\n",
       "\n",
       "    .dataframe thead th {\n",
       "        text-align: right;\n",
       "    }\n",
       "</style>\n",
       "<table border=\"1\" class=\"dataframe\">\n",
       "  <thead>\n",
       "    <tr style=\"text-align: right;\">\n",
       "      <th></th>\n",
       "      <th>ano</th>\n",
       "      <th>turno</th>\n",
       "      <th>tipo_eleicao</th>\n",
       "      <th>sigla_uf</th>\n",
       "      <th>id_municipio</th>\n",
       "      <th>id_municipio_tse</th>\n",
       "      <th>cargo</th>\n",
       "      <th>sigla_partido</th>\n",
       "      <th>numero_candidato</th>\n",
       "      <th>sequencial_candidato</th>\n",
       "      <th>id_candidato_bd</th>\n",
       "      <th>resultado</th>\n",
       "      <th>votos</th>\n",
       "    </tr>\n",
       "  </thead>\n",
       "  <tbody>\n",
       "    <tr>\n",
       "      <th>49</th>\n",
       "      <td>2020</td>\n",
       "      <td>1</td>\n",
       "      <td>eleicao ordinaria</td>\n",
       "      <td>SP</td>\n",
       "      <td>3501509</td>\n",
       "      <td>61298</td>\n",
       "      <td>prefeito</td>\n",
       "      <td>PSDB</td>\n",
       "      <td>45</td>\n",
       "      <td>250000769354</td>\n",
       "      <td>810998</td>\n",
       "      <td>eleito</td>\n",
       "      <td>1447</td>\n",
       "    </tr>\n",
       "    <tr>\n",
       "      <th>665</th>\n",
       "      <td>2020</td>\n",
       "      <td>1</td>\n",
       "      <td>eleicao ordinaria</td>\n",
       "      <td>SP</td>\n",
       "      <td>3515129</td>\n",
       "      <td>61387</td>\n",
       "      <td>prefeito</td>\n",
       "      <td>PTB</td>\n",
       "      <td>14</td>\n",
       "      <td>250001182060</td>\n",
       "      <td>139853</td>\n",
       "      <td>eleito</td>\n",
       "      <td>1186</td>\n",
       "    </tr>\n",
       "  </tbody>\n",
       "</table>\n",
       "</div>"
      ],
      "text/plain": [
       "      ano  turno       tipo_eleicao sigla_uf id_municipio id_municipio_tse  \\\n",
       "49   2020      1  eleicao ordinaria       SP      3501509            61298   \n",
       "665  2020      1  eleicao ordinaria       SP      3515129            61387   \n",
       "\n",
       "        cargo sigla_partido numero_candidato sequencial_candidato  \\\n",
       "49   prefeito          PSDB               45         250000769354   \n",
       "665  prefeito           PTB               14         250001182060   \n",
       "\n",
       "    id_candidato_bd resultado  votos  \n",
       "49           810998    eleito   1447  \n",
       "665          139853    eleito   1186  "
      ]
     },
     "execution_count": 40,
     "metadata": {},
     "output_type": "execute_result"
    }
   ],
   "source": [
    "df_prefeitosSP.query(\"id_municipio_tse == '61387' | id_municipio_tse == '61298'\")"
   ]
  },
  {
   "cell_type": "code",
   "execution_count": 41,
   "metadata": {
    "colab": {
     "base_uri": "https://localhost:8080/"
    },
    "executionInfo": {
     "elapsed": 131,
     "status": "ok",
     "timestamp": 1631907087678,
     "user": {
      "displayName": "Gabriel Caser",
      "photoUrl": "https://lh3.googleusercontent.com/a/default-user=s64",
      "userId": "03317079334303582914"
     },
     "user_tz": 180
    },
    "id": "Um4pM5rMJj1s",
    "outputId": "7f70fc28-56ce-404f-e7dc-0e1e88ae505f"
   },
   "outputs": [
    {
     "data": {
      "text/plain": [
       "(31, 13)"
      ]
     },
     "execution_count": 41,
     "metadata": {},
     "output_type": "execute_result"
    }
   ],
   "source": [
    "df_prefeitosSP[df_prefeitosSP[\"turno\"] == 2].shape"
   ]
  },
  {
   "cell_type": "markdown",
   "metadata": {
    "id": "3Zy9yeFPdhXB"
   },
   "source": [
    "## Criando variável % de votos"
   ]
  },
  {
   "cell_type": "code",
   "execution_count": 43,
   "metadata": {
    "id": "SIN-z7UWew74"
   },
   "outputs": [],
   "source": [
    "total_votos2 = pd.DataFrame(df_prefeitosSP.groupby([\"id_municipio_tse\"]).votos.sum())"
   ]
  },
  {
   "cell_type": "code",
   "execution_count": 44,
   "metadata": {
    "id": "7dfopn7Ig6tb"
   },
   "outputs": [],
   "source": [
    "df_prefeitosSP = df_prefeitosSP.merge(total_votos2, how='inner', on='id_municipio_tse')"
   ]
  },
  {
   "cell_type": "code",
   "execution_count": 45,
   "metadata": {
    "id": "_AelJeFqlqkP"
   },
   "outputs": [],
   "source": [
    "df_prefeitosSP.rename(columns = {\"votos_x\": \"votos\", \"votos_y\": \"total_votos\"}, inplace=True)"
   ]
  },
  {
   "cell_type": "code",
   "execution_count": 46,
   "metadata": {
    "id": "h9BJpiI9l-g2"
   },
   "outputs": [],
   "source": [
    "df_prefeitosSP[\"%votos\"] = (df_prefeitosSP.votos / df_prefeitosSP.total_votos).round(5)"
   ]
  },
  {
   "cell_type": "code",
   "execution_count": 47,
   "metadata": {
    "colab": {
     "base_uri": "https://localhost:8080/"
    },
    "executionInfo": {
     "elapsed": 173,
     "status": "ok",
     "timestamp": 1631907087762,
     "user": {
      "displayName": "Gabriel Caser",
      "photoUrl": "https://lh3.googleusercontent.com/a/default-user=s64",
      "userId": "03317079334303582914"
     },
     "user_tz": 180
    },
    "id": "GSnGFPYSnS2P",
    "outputId": "bd8208ab-0eb6-4a6a-b380-202ce3ea90d0"
   },
   "outputs": [
    {
     "data": {
      "text/plain": [
       "(2484, 15)"
      ]
     },
     "execution_count": 47,
     "metadata": {},
     "output_type": "execute_result"
    }
   ],
   "source": [
    "df_prefeitosSP.shape"
   ]
  },
  {
   "cell_type": "code",
   "execution_count": 48,
   "metadata": {
    "colab": {
     "base_uri": "https://localhost:8080/"
    },
    "executionInfo": {
     "elapsed": 677,
     "status": "ok",
     "timestamp": 1631907088279,
     "user": {
      "displayName": "Gabriel Caser",
      "photoUrl": "https://lh3.googleusercontent.com/a/default-user=s64",
      "userId": "03317079334303582914"
     },
     "user_tz": 180
    },
    "id": "YnEIEEqGDoXc",
    "outputId": "a4dc4ecf-d15f-4bdc-bb8d-1fd403d8f8e0"
   },
   "outputs": [
    {
     "data": {
      "text/plain": [
       "(644,)"
      ]
     },
     "execution_count": 48,
     "metadata": {},
     "output_type": "execute_result"
    }
   ],
   "source": [
    "df_prefeitosSP[\"id_municipio_tse\"].unique().shape"
   ]
  },
  {
   "cell_type": "markdown",
   "metadata": {
    "id": "_swS3fqKnUQQ"
   },
   "source": [
    "## Mantendo só o 1 e o 2 colocados para cada municipio (groupby) e depois criar uma coluna da diferença percentual entre eles"
   ]
  },
  {
   "cell_type": "markdown",
   "metadata": {
    "id": "ZcmVLLD2Hr2Z"
   },
   "source": [
    "### Tentando usar nlargest()"
   ]
  },
  {
   "cell_type": "code",
   "execution_count": 49,
   "metadata": {
    "id": "517HN9L--YEo"
   },
   "outputs": [],
   "source": [
    "grupo = pd.DataFrame(df_prefeitosSP.groupby([\"id_municipio_tse\"])[\"%votos\"].nlargest(2))"
   ]
  },
  {
   "cell_type": "code",
   "execution_count": 50,
   "metadata": {
    "colab": {
     "base_uri": "https://localhost:8080/",
     "height": 232
    },
    "executionInfo": {
     "elapsed": 261,
     "status": "ok",
     "timestamp": 1631907089203,
     "user": {
      "displayName": "Gabriel Caser",
      "photoUrl": "https://lh3.googleusercontent.com/a/default-user=s64",
      "userId": "03317079334303582914"
     },
     "user_tz": 180
    },
    "id": "72GypBkKMAA9",
    "outputId": "7d470ad4-44c6-4f52-9416-9f6f224692bf"
   },
   "outputs": [
    {
     "data": {
      "text/html": [
       "<div>\n",
       "<style scoped>\n",
       "    .dataframe tbody tr th:only-of-type {\n",
       "        vertical-align: middle;\n",
       "    }\n",
       "\n",
       "    .dataframe tbody tr th {\n",
       "        vertical-align: top;\n",
       "    }\n",
       "\n",
       "    .dataframe thead th {\n",
       "        text-align: right;\n",
       "    }\n",
       "</style>\n",
       "<table border=\"1\" class=\"dataframe\">\n",
       "  <thead>\n",
       "    <tr style=\"text-align: right;\">\n",
       "      <th></th>\n",
       "      <th></th>\n",
       "      <th>%votos</th>\n",
       "    </tr>\n",
       "    <tr>\n",
       "      <th>id_municipio_tse</th>\n",
       "      <th></th>\n",
       "      <th></th>\n",
       "    </tr>\n",
       "  </thead>\n",
       "  <tbody>\n",
       "    <tr>\n",
       "      <th rowspan=\"2\" valign=\"top\">61000</th>\n",
       "      <th>685</th>\n",
       "      <td>0.72889</td>\n",
       "    </tr>\n",
       "    <tr>\n",
       "      <th>684</th>\n",
       "      <td>0.27111</td>\n",
       "    </tr>\n",
       "    <tr>\n",
       "      <th rowspan=\"2\" valign=\"top\">61018</th>\n",
       "      <th>0</th>\n",
       "      <td>0.77892</td>\n",
       "    </tr>\n",
       "    <tr>\n",
       "      <th>1</th>\n",
       "      <td>0.22108</td>\n",
       "    </tr>\n",
       "    <tr>\n",
       "      <th>61026</th>\n",
       "      <th>337</th>\n",
       "      <td>0.70795</td>\n",
       "    </tr>\n",
       "  </tbody>\n",
       "</table>\n",
       "</div>"
      ],
      "text/plain": [
       "                       %votos\n",
       "id_municipio_tse             \n",
       "61000            685  0.72889\n",
       "                 684  0.27111\n",
       "61018            0    0.77892\n",
       "                 1    0.22108\n",
       "61026            337  0.70795"
      ]
     },
     "execution_count": 50,
     "metadata": {},
     "output_type": "execute_result"
    }
   ],
   "source": [
    "grupo.head()"
   ]
  },
  {
   "cell_type": "markdown",
   "metadata": {
    "id": "226yBnDdK4N7"
   },
   "source": [
    "- Agora tenho que zerar o index do \"Grupo\""
   ]
  },
  {
   "cell_type": "code",
   "execution_count": 51,
   "metadata": {
    "colab": {
     "base_uri": "https://localhost:8080/",
     "height": 414
    },
    "executionInfo": {
     "elapsed": 263,
     "status": "ok",
     "timestamp": 1631907089209,
     "user": {
      "displayName": "Gabriel Caser",
      "photoUrl": "https://lh3.googleusercontent.com/a/default-user=s64",
      "userId": "03317079334303582914"
     },
     "user_tz": 180
    },
    "id": "jvqnPuPqK-UD",
    "outputId": "8398ff7e-955f-4d0a-cb03-d66739207b77"
   },
   "outputs": [
    {
     "data": {
      "text/html": [
       "<div>\n",
       "<style scoped>\n",
       "    .dataframe tbody tr th:only-of-type {\n",
       "        vertical-align: middle;\n",
       "    }\n",
       "\n",
       "    .dataframe tbody tr th {\n",
       "        vertical-align: top;\n",
       "    }\n",
       "\n",
       "    .dataframe thead th {\n",
       "        text-align: right;\n",
       "    }\n",
       "</style>\n",
       "<table border=\"1\" class=\"dataframe\">\n",
       "  <thead>\n",
       "    <tr style=\"text-align: right;\">\n",
       "      <th></th>\n",
       "      <th>id_municipio_tse</th>\n",
       "      <th>level_1</th>\n",
       "      <th>%votos</th>\n",
       "    </tr>\n",
       "  </thead>\n",
       "  <tbody>\n",
       "    <tr>\n",
       "      <th>0</th>\n",
       "      <td>61000</td>\n",
       "      <td>685</td>\n",
       "      <td>0.72889</td>\n",
       "    </tr>\n",
       "    <tr>\n",
       "      <th>1</th>\n",
       "      <td>61000</td>\n",
       "      <td>684</td>\n",
       "      <td>0.27111</td>\n",
       "    </tr>\n",
       "    <tr>\n",
       "      <th>2</th>\n",
       "      <td>61018</td>\n",
       "      <td>0</td>\n",
       "      <td>0.77892</td>\n",
       "    </tr>\n",
       "    <tr>\n",
       "      <th>3</th>\n",
       "      <td>61018</td>\n",
       "      <td>1</td>\n",
       "      <td>0.22108</td>\n",
       "    </tr>\n",
       "    <tr>\n",
       "      <th>4</th>\n",
       "      <td>61026</td>\n",
       "      <td>337</td>\n",
       "      <td>0.70795</td>\n",
       "    </tr>\n",
       "    <tr>\n",
       "      <th>...</th>\n",
       "      <td>...</td>\n",
       "      <td>...</td>\n",
       "      <td>...</td>\n",
       "    </tr>\n",
       "    <tr>\n",
       "      <th>1258</th>\n",
       "      <td>72435</td>\n",
       "      <td>2468</td>\n",
       "      <td>0.22833</td>\n",
       "    </tr>\n",
       "    <tr>\n",
       "      <th>1259</th>\n",
       "      <td>72451</td>\n",
       "      <td>2476</td>\n",
       "      <td>0.50875</td>\n",
       "    </tr>\n",
       "    <tr>\n",
       "      <th>1260</th>\n",
       "      <td>72451</td>\n",
       "      <td>2477</td>\n",
       "      <td>0.36096</td>\n",
       "    </tr>\n",
       "    <tr>\n",
       "      <th>1261</th>\n",
       "      <td>72737</td>\n",
       "      <td>2441</td>\n",
       "      <td>0.51726</td>\n",
       "    </tr>\n",
       "    <tr>\n",
       "      <th>1262</th>\n",
       "      <td>72737</td>\n",
       "      <td>2443</td>\n",
       "      <td>0.40245</td>\n",
       "    </tr>\n",
       "  </tbody>\n",
       "</table>\n",
       "<p>1263 rows × 3 columns</p>\n",
       "</div>"
      ],
      "text/plain": [
       "     id_municipio_tse  level_1   %votos\n",
       "0               61000      685  0.72889\n",
       "1               61000      684  0.27111\n",
       "2               61018        0  0.77892\n",
       "3               61018        1  0.22108\n",
       "4               61026      337  0.70795\n",
       "...               ...      ...      ...\n",
       "1258            72435     2468  0.22833\n",
       "1259            72451     2476  0.50875\n",
       "1260            72451     2477  0.36096\n",
       "1261            72737     2441  0.51726\n",
       "1262            72737     2443  0.40245\n",
       "\n",
       "[1263 rows x 3 columns]"
      ]
     },
     "execution_count": 51,
     "metadata": {},
     "output_type": "execute_result"
    }
   ],
   "source": [
    "grupo = grupo.reset_index()\n",
    "grupo"
   ]
  },
  {
   "cell_type": "code",
   "execution_count": 52,
   "metadata": {
    "colab": {
     "base_uri": "https://localhost:8080/"
    },
    "executionInfo": {
     "elapsed": 267,
     "status": "ok",
     "timestamp": 1631907089218,
     "user": {
      "displayName": "Gabriel Caser",
      "photoUrl": "https://lh3.googleusercontent.com/a/default-user=s64",
      "userId": "03317079334303582914"
     },
     "user_tz": 180
    },
    "id": "O_TlVTt2D3wt",
    "outputId": "c7476390-3f14-4f68-86e7-598ae8dbe20d"
   },
   "outputs": [
    {
     "data": {
      "text/plain": [
       "(644,)"
      ]
     },
     "execution_count": 52,
     "metadata": {},
     "output_type": "execute_result"
    }
   ],
   "source": [
    "grupo[\"id_municipio_tse\"].unique().shape"
   ]
  },
  {
   "cell_type": "markdown",
   "metadata": {
    "id": "vzevU2dcL8FC"
   },
   "source": [
    "### Usando função .diff para subtrair uma linha pela outra "
   ]
  },
  {
   "cell_type": "code",
   "execution_count": 53,
   "metadata": {
    "colab": {
     "base_uri": "https://localhost:8080/",
     "height": 414
    },
    "executionInfo": {
     "elapsed": 248,
     "status": "ok",
     "timestamp": 1631907089221,
     "user": {
      "displayName": "Gabriel Caser",
      "photoUrl": "https://lh3.googleusercontent.com/a/default-user=s64",
      "userId": "03317079334303582914"
     },
     "user_tz": 180
    },
    "id": "XZSHjdZ3L_Za",
    "outputId": "a2cadee2-5342-482e-e79b-d92be5a140f6"
   },
   "outputs": [
    {
     "data": {
      "text/html": [
       "<div>\n",
       "<style scoped>\n",
       "    .dataframe tbody tr th:only-of-type {\n",
       "        vertical-align: middle;\n",
       "    }\n",
       "\n",
       "    .dataframe tbody tr th {\n",
       "        vertical-align: top;\n",
       "    }\n",
       "\n",
       "    .dataframe thead th {\n",
       "        text-align: right;\n",
       "    }\n",
       "</style>\n",
       "<table border=\"1\" class=\"dataframe\">\n",
       "  <thead>\n",
       "    <tr style=\"text-align: right;\">\n",
       "      <th></th>\n",
       "      <th>level_1</th>\n",
       "      <th>%votos</th>\n",
       "    </tr>\n",
       "  </thead>\n",
       "  <tbody>\n",
       "    <tr>\n",
       "      <th>0</th>\n",
       "      <td>1.0</td>\n",
       "      <td>0.45778</td>\n",
       "    </tr>\n",
       "    <tr>\n",
       "      <th>1</th>\n",
       "      <td>NaN</td>\n",
       "      <td>NaN</td>\n",
       "    </tr>\n",
       "    <tr>\n",
       "      <th>2</th>\n",
       "      <td>-1.0</td>\n",
       "      <td>0.55784</td>\n",
       "    </tr>\n",
       "    <tr>\n",
       "      <th>3</th>\n",
       "      <td>NaN</td>\n",
       "      <td>NaN</td>\n",
       "    </tr>\n",
       "    <tr>\n",
       "      <th>4</th>\n",
       "      <td>-1.0</td>\n",
       "      <td>0.41590</td>\n",
       "    </tr>\n",
       "    <tr>\n",
       "      <th>...</th>\n",
       "      <td>...</td>\n",
       "      <td>...</td>\n",
       "    </tr>\n",
       "    <tr>\n",
       "      <th>1258</th>\n",
       "      <td>NaN</td>\n",
       "      <td>NaN</td>\n",
       "    </tr>\n",
       "    <tr>\n",
       "      <th>1259</th>\n",
       "      <td>-1.0</td>\n",
       "      <td>0.14779</td>\n",
       "    </tr>\n",
       "    <tr>\n",
       "      <th>1260</th>\n",
       "      <td>NaN</td>\n",
       "      <td>NaN</td>\n",
       "    </tr>\n",
       "    <tr>\n",
       "      <th>1261</th>\n",
       "      <td>-2.0</td>\n",
       "      <td>0.11481</td>\n",
       "    </tr>\n",
       "    <tr>\n",
       "      <th>1262</th>\n",
       "      <td>NaN</td>\n",
       "      <td>NaN</td>\n",
       "    </tr>\n",
       "  </tbody>\n",
       "</table>\n",
       "<p>1263 rows × 2 columns</p>\n",
       "</div>"
      ],
      "text/plain": [
       "      level_1   %votos\n",
       "0         1.0  0.45778\n",
       "1         NaN      NaN\n",
       "2        -1.0  0.55784\n",
       "3         NaN      NaN\n",
       "4        -1.0  0.41590\n",
       "...       ...      ...\n",
       "1258      NaN      NaN\n",
       "1259     -1.0  0.14779\n",
       "1260      NaN      NaN\n",
       "1261     -2.0  0.11481\n",
       "1262      NaN      NaN\n",
       "\n",
       "[1263 rows x 2 columns]"
      ]
     },
     "execution_count": 53,
     "metadata": {},
     "output_type": "execute_result"
    }
   ],
   "source": [
    "dif_votos = grupo.groupby([\"id_municipio_tse\"]).diff(periods=-1)\n",
    "dif_votos"
   ]
  },
  {
   "cell_type": "markdown",
   "metadata": {
    "id": "h-SLudBZLhC_"
   },
   "source": [
    "### Juntando com a base df_prefeitosSP"
   ]
  },
  {
   "cell_type": "code",
   "execution_count": 54,
   "metadata": {
    "id": "gYqh-KVSNurW"
   },
   "outputs": [],
   "source": [
    "dif_votos.drop(columns = \"level_1\", inplace = True)"
   ]
  },
  {
   "cell_type": "code",
   "execution_count": 55,
   "metadata": {
    "id": "IFm4kS9aTKRM"
   },
   "outputs": [],
   "source": [
    "dif_votos.rename(columns = {\"%votos\": \"dif_votos\"}, inplace = True)"
   ]
  },
  {
   "cell_type": "code",
   "execution_count": 56,
   "metadata": {
    "id": "Azmk0xFuMvfk"
   },
   "outputs": [],
   "source": [
    "grupo = grupo.join(dif_votos)"
   ]
  },
  {
   "cell_type": "code",
   "execution_count": 57,
   "metadata": {
    "id": "Nd4eGVA6UpwT"
   },
   "outputs": [],
   "source": [
    "grupo = grupo.drop(columns = \"level_1\")"
   ]
  },
  {
   "cell_type": "code",
   "execution_count": 58,
   "metadata": {
    "colab": {
     "base_uri": "https://localhost:8080/",
     "height": 414
    },
    "executionInfo": {
     "elapsed": 262,
     "status": "ok",
     "timestamp": 1631907089252,
     "user": {
      "displayName": "Gabriel Caser",
      "photoUrl": "https://lh3.googleusercontent.com/a/default-user=s64",
      "userId": "03317079334303582914"
     },
     "user_tz": 180
    },
    "id": "aBMGzFreMzcc",
    "outputId": "7e35d05a-ec56-4e40-c1d6-5b1044716a0b"
   },
   "outputs": [
    {
     "data": {
      "text/html": [
       "<div>\n",
       "<style scoped>\n",
       "    .dataframe tbody tr th:only-of-type {\n",
       "        vertical-align: middle;\n",
       "    }\n",
       "\n",
       "    .dataframe tbody tr th {\n",
       "        vertical-align: top;\n",
       "    }\n",
       "\n",
       "    .dataframe thead th {\n",
       "        text-align: right;\n",
       "    }\n",
       "</style>\n",
       "<table border=\"1\" class=\"dataframe\">\n",
       "  <thead>\n",
       "    <tr style=\"text-align: right;\">\n",
       "      <th></th>\n",
       "      <th>id_municipio_tse</th>\n",
       "      <th>%votos</th>\n",
       "      <th>dif_votos</th>\n",
       "    </tr>\n",
       "  </thead>\n",
       "  <tbody>\n",
       "    <tr>\n",
       "      <th>8</th>\n",
       "      <td>61042</td>\n",
       "      <td>0.51833</td>\n",
       "      <td>0.04408</td>\n",
       "    </tr>\n",
       "    <tr>\n",
       "      <th>16</th>\n",
       "      <td>61085</td>\n",
       "      <td>0.38336</td>\n",
       "      <td>0.03343</td>\n",
       "    </tr>\n",
       "    <tr>\n",
       "      <th>22</th>\n",
       "      <td>61115</td>\n",
       "      <td>0.43730</td>\n",
       "      <td>0.02218</td>\n",
       "    </tr>\n",
       "    <tr>\n",
       "      <th>26</th>\n",
       "      <td>61131</td>\n",
       "      <td>0.36032</td>\n",
       "      <td>0.00292</td>\n",
       "    </tr>\n",
       "    <tr>\n",
       "      <th>29</th>\n",
       "      <td>61158</td>\n",
       "      <td>0.41087</td>\n",
       "      <td>0.04551</td>\n",
       "    </tr>\n",
       "    <tr>\n",
       "      <th>...</th>\n",
       "      <td>...</td>\n",
       "      <td>...</td>\n",
       "      <td>...</td>\n",
       "    </tr>\n",
       "    <tr>\n",
       "      <th>1203</th>\n",
       "      <td>71854</td>\n",
       "      <td>0.52346</td>\n",
       "      <td>0.04692</td>\n",
       "    </tr>\n",
       "    <tr>\n",
       "      <th>1208</th>\n",
       "      <td>71919</td>\n",
       "      <td>0.28880</td>\n",
       "      <td>0.02915</td>\n",
       "    </tr>\n",
       "    <tr>\n",
       "      <th>1233</th>\n",
       "      <td>72176</td>\n",
       "      <td>0.50183</td>\n",
       "      <td>0.00366</td>\n",
       "    </tr>\n",
       "    <tr>\n",
       "      <th>1235</th>\n",
       "      <td>72192</td>\n",
       "      <td>0.50588</td>\n",
       "      <td>0.01176</td>\n",
       "    </tr>\n",
       "    <tr>\n",
       "      <th>1243</th>\n",
       "      <td>72273</td>\n",
       "      <td>0.34831</td>\n",
       "      <td>0.03987</td>\n",
       "    </tr>\n",
       "  </tbody>\n",
       "</table>\n",
       "<p>120 rows × 3 columns</p>\n",
       "</div>"
      ],
      "text/plain": [
       "     id_municipio_tse   %votos  dif_votos\n",
       "8               61042  0.51833    0.04408\n",
       "16              61085  0.38336    0.03343\n",
       "22              61115  0.43730    0.02218\n",
       "26              61131  0.36032    0.00292\n",
       "29              61158  0.41087    0.04551\n",
       "...               ...      ...        ...\n",
       "1203            71854  0.52346    0.04692\n",
       "1208            71919  0.28880    0.02915\n",
       "1233            72176  0.50183    0.00366\n",
       "1235            72192  0.50588    0.01176\n",
       "1243            72273  0.34831    0.03987\n",
       "\n",
       "[120 rows x 3 columns]"
      ]
     },
     "execution_count": 58,
     "metadata": {},
     "output_type": "execute_result"
    }
   ],
   "source": [
    "grupo.query(\"dif_votos <= 0.05\")"
   ]
  },
  {
   "cell_type": "code",
   "execution_count": 59,
   "metadata": {
    "colab": {
     "base_uri": "https://localhost:8080/"
    },
    "executionInfo": {
     "elapsed": 265,
     "status": "ok",
     "timestamp": 1631907089259,
     "user": {
      "displayName": "Gabriel Caser",
      "photoUrl": "https://lh3.googleusercontent.com/a/default-user=s64",
      "userId": "03317079334303582914"
     },
     "user_tz": 180
    },
    "id": "LFXAAYQsG1Br",
    "outputId": "dd5d2d6a-dc51-40b2-d51e-589532c29d17"
   },
   "outputs": [
    {
     "name": "stdout",
     "output_type": "stream",
     "text": [
      "  id_municipio_tse   %votos  dif_votos\n",
      "0            61000  0.72889    0.45778\n",
      "1            61000  0.27111        NaN\n",
      "2            61018  0.77892    0.55784\n",
      "3            61018  0.22108        NaN\n",
      "4            61026  0.70795    0.41590\n"
     ]
    }
   ],
   "source": [
    "with pd.option_context('display.max_rows', None, 'display.max_columns', None):\n",
    "    print(grupo[0:5])"
   ]
  },
  {
   "cell_type": "markdown",
   "metadata": {
    "id": "WnK9BurpHc0x"
   },
   "source": [
    "- Perceba que aqui o município 61387 só tem uma observação! O 61298 também. Ou seja, alguns municípios parecem que só tiveram 1 candidato! Tenho que verificar isso.\n",
    "  - é isso mesmo! Vide notícia https://g1.globo.com/sp/sao-jose-do-rio-preto-aracatuba/eleicoes/2020/noticia/2020/09/30/quatro-cidades-do-noroeste-paulista-tem-apenas-um-candidato-a-prefeito.ghtml\n",
    "- Se for isso, não tem problema eles serem apagados! Dado que o diferencial de votos não existiria, tornando-os inúteis para o RDD\n",
    "- O problema é: Por que não estou vendo observações do 2 turno?"
   ]
  },
  {
   "cell_type": "code",
   "execution_count": 60,
   "metadata": {
    "colab": {
     "base_uri": "https://localhost:8080/"
    },
    "executionInfo": {
     "elapsed": 246,
     "status": "ok",
     "timestamp": 1631907089261,
     "user": {
      "displayName": "Gabriel Caser",
      "photoUrl": "https://lh3.googleusercontent.com/a/default-user=s64",
      "userId": "03317079334303582914"
     },
     "user_tz": 180
    },
    "id": "ZwEQxGTVEf7V",
    "outputId": "f6da391e-1485-4c9d-ac18-2a43de5f2dc7"
   },
   "outputs": [
    {
     "data": {
      "text/plain": [
       "(644,)"
      ]
     },
     "execution_count": 60,
     "metadata": {},
     "output_type": "execute_result"
    }
   ],
   "source": [
    "grupo[\"id_municipio_tse\"].unique().shape"
   ]
  },
  {
   "cell_type": "markdown",
   "metadata": {
    "id": "xgv80cneT7iE"
   },
   "source": [
    "### Juntando com base principal (df_prefeitosSP)"
   ]
  },
  {
   "cell_type": "code",
   "execution_count": 61,
   "metadata": {
    "colab": {
     "base_uri": "https://localhost:8080/",
     "height": 414
    },
    "executionInfo": {
     "elapsed": 182,
     "status": "ok",
     "timestamp": 1631907089264,
     "user": {
      "displayName": "Gabriel Caser",
      "photoUrl": "https://lh3.googleusercontent.com/a/default-user=s64",
      "userId": "03317079334303582914"
     },
     "user_tz": 180
    },
    "id": "r-ANnV2AEkJf",
    "outputId": "4b7af925-70d5-4f94-8254-342bf6892727"
   },
   "outputs": [
    {
     "data": {
      "text/html": [
       "<div>\n",
       "<style scoped>\n",
       "    .dataframe tbody tr th:only-of-type {\n",
       "        vertical-align: middle;\n",
       "    }\n",
       "\n",
       "    .dataframe tbody tr th {\n",
       "        vertical-align: top;\n",
       "    }\n",
       "\n",
       "    .dataframe thead th {\n",
       "        text-align: right;\n",
       "    }\n",
       "</style>\n",
       "<table border=\"1\" class=\"dataframe\">\n",
       "  <thead>\n",
       "    <tr style=\"text-align: right;\">\n",
       "      <th></th>\n",
       "      <th>id_municipio_tse</th>\n",
       "      <th>%votos</th>\n",
       "      <th>dif_votos</th>\n",
       "    </tr>\n",
       "  </thead>\n",
       "  <tbody>\n",
       "    <tr>\n",
       "      <th>1</th>\n",
       "      <td>61000</td>\n",
       "      <td>0.27111</td>\n",
       "      <td>NaN</td>\n",
       "    </tr>\n",
       "    <tr>\n",
       "      <th>3</th>\n",
       "      <td>61018</td>\n",
       "      <td>0.22108</td>\n",
       "      <td>NaN</td>\n",
       "    </tr>\n",
       "    <tr>\n",
       "      <th>5</th>\n",
       "      <td>61026</td>\n",
       "      <td>0.29205</td>\n",
       "      <td>NaN</td>\n",
       "    </tr>\n",
       "    <tr>\n",
       "      <th>7</th>\n",
       "      <td>61034</td>\n",
       "      <td>0.36834</td>\n",
       "      <td>NaN</td>\n",
       "    </tr>\n",
       "    <tr>\n",
       "      <th>9</th>\n",
       "      <td>61042</td>\n",
       "      <td>0.47425</td>\n",
       "      <td>NaN</td>\n",
       "    </tr>\n",
       "    <tr>\n",
       "      <th>...</th>\n",
       "      <td>...</td>\n",
       "      <td>...</td>\n",
       "      <td>...</td>\n",
       "    </tr>\n",
       "    <tr>\n",
       "      <th>1254</th>\n",
       "      <td>72397</td>\n",
       "      <td>0.29386</td>\n",
       "      <td>NaN</td>\n",
       "    </tr>\n",
       "    <tr>\n",
       "      <th>1256</th>\n",
       "      <td>72419</td>\n",
       "      <td>0.30382</td>\n",
       "      <td>NaN</td>\n",
       "    </tr>\n",
       "    <tr>\n",
       "      <th>1258</th>\n",
       "      <td>72435</td>\n",
       "      <td>0.22833</td>\n",
       "      <td>NaN</td>\n",
       "    </tr>\n",
       "    <tr>\n",
       "      <th>1260</th>\n",
       "      <td>72451</td>\n",
       "      <td>0.36096</td>\n",
       "      <td>NaN</td>\n",
       "    </tr>\n",
       "    <tr>\n",
       "      <th>1262</th>\n",
       "      <td>72737</td>\n",
       "      <td>0.40245</td>\n",
       "      <td>NaN</td>\n",
       "    </tr>\n",
       "  </tbody>\n",
       "</table>\n",
       "<p>644 rows × 3 columns</p>\n",
       "</div>"
      ],
      "text/plain": [
       "     id_municipio_tse   %votos  dif_votos\n",
       "1               61000  0.27111        NaN\n",
       "3               61018  0.22108        NaN\n",
       "5               61026  0.29205        NaN\n",
       "7               61034  0.36834        NaN\n",
       "9               61042  0.47425        NaN\n",
       "...               ...      ...        ...\n",
       "1254            72397  0.29386        NaN\n",
       "1256            72419  0.30382        NaN\n",
       "1258            72435  0.22833        NaN\n",
       "1260            72451  0.36096        NaN\n",
       "1262            72737  0.40245        NaN\n",
       "\n",
       "[644 rows x 3 columns]"
      ]
     },
     "execution_count": 61,
     "metadata": {},
     "output_type": "execute_result"
    }
   ],
   "source": [
    "grupo.query('dif_votos.isnull()', engine='python')"
   ]
  },
  {
   "cell_type": "code",
   "execution_count": 62,
   "metadata": {
    "colab": {
     "base_uri": "https://localhost:8080/"
    },
    "executionInfo": {
     "elapsed": 182,
     "status": "ok",
     "timestamp": 1631907089269,
     "user": {
      "displayName": "Gabriel Caser",
      "photoUrl": "https://lh3.googleusercontent.com/a/default-user=s64",
      "userId": "03317079334303582914"
     },
     "user_tz": 180
    },
    "id": "qrDYrqGI02Fu",
    "outputId": "ab5252c1-f5e9-4534-ef9c-30a2c8efc71f"
   },
   "outputs": [
    {
     "data": {
      "text/plain": [
       "(619, 3)"
      ]
     },
     "execution_count": 62,
     "metadata": {},
     "output_type": "execute_result"
    }
   ],
   "source": [
    "grupo = grupo.dropna()\n",
    "grupo.shape"
   ]
  },
  {
   "cell_type": "code",
   "execution_count": 63,
   "metadata": {
    "id": "f-ZgccFe2NYl"
   },
   "outputs": [],
   "source": [
    "grupo = grupo.drop(columns=\"%votos\")"
   ]
  },
  {
   "cell_type": "code",
   "execution_count": 64,
   "metadata": {
    "id": "-zpigkBX1Ofk"
   },
   "outputs": [],
   "source": [
    "df_prefeitosSP = df_prefeitosSP.merge(grupo, how = \"inner\", on = \"id_municipio_tse\")"
   ]
  },
  {
   "cell_type": "code",
   "execution_count": 65,
   "metadata": {
    "colab": {
     "base_uri": "https://localhost:8080/",
     "height": 508
    },
    "executionInfo": {
     "elapsed": 187,
     "status": "ok",
     "timestamp": 1631907090424,
     "user": {
      "displayName": "Gabriel Caser",
      "photoUrl": "https://lh3.googleusercontent.com/a/default-user=s64",
      "userId": "03317079334303582914"
     },
     "user_tz": 180
    },
    "id": "vJjU2ewA1pd1",
    "outputId": "5e518d70-7e8f-4e58-c648-81002dc4fa96"
   },
   "outputs": [
    {
     "data": {
      "text/html": [
       "<div>\n",
       "<style scoped>\n",
       "    .dataframe tbody tr th:only-of-type {\n",
       "        vertical-align: middle;\n",
       "    }\n",
       "\n",
       "    .dataframe tbody tr th {\n",
       "        vertical-align: top;\n",
       "    }\n",
       "\n",
       "    .dataframe thead th {\n",
       "        text-align: right;\n",
       "    }\n",
       "</style>\n",
       "<table border=\"1\" class=\"dataframe\">\n",
       "  <thead>\n",
       "    <tr style=\"text-align: right;\">\n",
       "      <th></th>\n",
       "      <th>0</th>\n",
       "      <th>1</th>\n",
       "      <th>2</th>\n",
       "      <th>3</th>\n",
       "      <th>4</th>\n",
       "    </tr>\n",
       "  </thead>\n",
       "  <tbody>\n",
       "    <tr>\n",
       "      <th>ano</th>\n",
       "      <td>2020</td>\n",
       "      <td>2020</td>\n",
       "      <td>2020</td>\n",
       "      <td>2020</td>\n",
       "      <td>2020</td>\n",
       "    </tr>\n",
       "    <tr>\n",
       "      <th>turno</th>\n",
       "      <td>1</td>\n",
       "      <td>1</td>\n",
       "      <td>1</td>\n",
       "      <td>1</td>\n",
       "      <td>1</td>\n",
       "    </tr>\n",
       "    <tr>\n",
       "      <th>tipo_eleicao</th>\n",
       "      <td>eleicao ordinaria</td>\n",
       "      <td>eleicao ordinaria</td>\n",
       "      <td>eleicao ordinaria</td>\n",
       "      <td>eleicao ordinaria</td>\n",
       "      <td>eleicao ordinaria</td>\n",
       "    </tr>\n",
       "    <tr>\n",
       "      <th>sigla_uf</th>\n",
       "      <td>SP</td>\n",
       "      <td>SP</td>\n",
       "      <td>SP</td>\n",
       "      <td>SP</td>\n",
       "      <td>SP</td>\n",
       "    </tr>\n",
       "    <tr>\n",
       "      <th>id_municipio</th>\n",
       "      <td>3500105</td>\n",
       "      <td>3500105</td>\n",
       "      <td>3500204</td>\n",
       "      <td>3500204</td>\n",
       "      <td>3500303</td>\n",
       "    </tr>\n",
       "    <tr>\n",
       "      <th>id_municipio_tse</th>\n",
       "      <td>61018</td>\n",
       "      <td>61018</td>\n",
       "      <td>61034</td>\n",
       "      <td>61034</td>\n",
       "      <td>61050</td>\n",
       "    </tr>\n",
       "    <tr>\n",
       "      <th>cargo</th>\n",
       "      <td>prefeito</td>\n",
       "      <td>prefeito</td>\n",
       "      <td>prefeito</td>\n",
       "      <td>prefeito</td>\n",
       "      <td>prefeito</td>\n",
       "    </tr>\n",
       "    <tr>\n",
       "      <th>sigla_partido</th>\n",
       "      <td>DEM</td>\n",
       "      <td>PSD</td>\n",
       "      <td>MDB</td>\n",
       "      <td>PSDB</td>\n",
       "      <td>PSDB</td>\n",
       "    </tr>\n",
       "    <tr>\n",
       "      <th>numero_candidato</th>\n",
       "      <td>25</td>\n",
       "      <td>55</td>\n",
       "      <td>15</td>\n",
       "      <td>45</td>\n",
       "      <td>45</td>\n",
       "    </tr>\n",
       "    <tr>\n",
       "      <th>sequencial_candidato</th>\n",
       "      <td>250001018914</td>\n",
       "      <td>250001085198</td>\n",
       "      <td>250001167312</td>\n",
       "      <td>250001093392</td>\n",
       "      <td>250000846054</td>\n",
       "    </tr>\n",
       "    <tr>\n",
       "      <th>id_candidato_bd</th>\n",
       "      <td>1006655</td>\n",
       "      <td>1305529</td>\n",
       "      <td>418658</td>\n",
       "      <td>927307</td>\n",
       "      <td>1323085</td>\n",
       "    </tr>\n",
       "    <tr>\n",
       "      <th>resultado</th>\n",
       "      <td>eleito</td>\n",
       "      <td>nao eleito</td>\n",
       "      <td>nao eleito</td>\n",
       "      <td>eleito</td>\n",
       "      <td>eleito</td>\n",
       "    </tr>\n",
       "    <tr>\n",
       "      <th>votos</th>\n",
       "      <td>11863</td>\n",
       "      <td>3367</td>\n",
       "      <td>1217</td>\n",
       "      <td>2087</td>\n",
       "      <td>9120</td>\n",
       "    </tr>\n",
       "    <tr>\n",
       "      <th>total_votos</th>\n",
       "      <td>15230</td>\n",
       "      <td>15230</td>\n",
       "      <td>3304</td>\n",
       "      <td>3304</td>\n",
       "      <td>15181</td>\n",
       "    </tr>\n",
       "    <tr>\n",
       "      <th>%votos</th>\n",
       "      <td>0.77892</td>\n",
       "      <td>0.22108</td>\n",
       "      <td>0.36834</td>\n",
       "      <td>0.63166</td>\n",
       "      <td>0.60075</td>\n",
       "    </tr>\n",
       "    <tr>\n",
       "      <th>dif_votos</th>\n",
       "      <td>0.55784</td>\n",
       "      <td>0.55784</td>\n",
       "      <td>0.26332</td>\n",
       "      <td>0.26332</td>\n",
       "      <td>0.26092</td>\n",
       "    </tr>\n",
       "  </tbody>\n",
       "</table>\n",
       "</div>"
      ],
      "text/plain": [
       "                                      0                  1                  2  \\\n",
       "ano                                2020               2020               2020   \n",
       "turno                                 1                  1                  1   \n",
       "tipo_eleicao          eleicao ordinaria  eleicao ordinaria  eleicao ordinaria   \n",
       "sigla_uf                             SP                 SP                 SP   \n",
       "id_municipio                    3500105            3500105            3500204   \n",
       "id_municipio_tse                  61018              61018              61034   \n",
       "cargo                          prefeito           prefeito           prefeito   \n",
       "sigla_partido                       DEM                PSD                MDB   \n",
       "numero_candidato                     25                 55                 15   \n",
       "sequencial_candidato       250001018914       250001085198       250001167312   \n",
       "id_candidato_bd                 1006655            1305529             418658   \n",
       "resultado                        eleito         nao eleito         nao eleito   \n",
       "votos                             11863               3367               1217   \n",
       "total_votos                       15230              15230               3304   \n",
       "%votos                          0.77892            0.22108            0.36834   \n",
       "dif_votos                       0.55784            0.55784            0.26332   \n",
       "\n",
       "                                      3                  4  \n",
       "ano                                2020               2020  \n",
       "turno                                 1                  1  \n",
       "tipo_eleicao          eleicao ordinaria  eleicao ordinaria  \n",
       "sigla_uf                             SP                 SP  \n",
       "id_municipio                    3500204            3500303  \n",
       "id_municipio_tse                  61034              61050  \n",
       "cargo                          prefeito           prefeito  \n",
       "sigla_partido                      PSDB               PSDB  \n",
       "numero_candidato                     45                 45  \n",
       "sequencial_candidato       250001093392       250000846054  \n",
       "id_candidato_bd                  927307            1323085  \n",
       "resultado                        eleito             eleito  \n",
       "votos                              2087               9120  \n",
       "total_votos                        3304              15181  \n",
       "%votos                          0.63166            0.60075  \n",
       "dif_votos                       0.26332            0.26092  "
      ]
     },
     "execution_count": 65,
     "metadata": {},
     "output_type": "execute_result"
    }
   ],
   "source": [
    "df_prefeitosSP.head(5).T"
   ]
  },
  {
   "cell_type": "code",
   "execution_count": 66,
   "metadata": {
    "colab": {
     "base_uri": "https://localhost:8080/"
    },
    "executionInfo": {
     "elapsed": 181,
     "status": "ok",
     "timestamp": 1631907090428,
     "user": {
      "displayName": "Gabriel Caser",
      "photoUrl": "https://lh3.googleusercontent.com/a/default-user=s64",
      "userId": "03317079334303582914"
     },
     "user_tz": 180
    },
    "id": "Vs0hA-vDLOwg",
    "outputId": "0da1412b-8bce-4b4c-810c-fd97422ba54e"
   },
   "outputs": [
    {
     "data": {
      "text/plain": [
       "(31, 16)"
      ]
     },
     "execution_count": 66,
     "metadata": {},
     "output_type": "execute_result"
    }
   ],
   "source": [
    "df_prefeitosSP[df_prefeitosSP[\"turno\"] == 2].shape"
   ]
  },
  {
   "cell_type": "code",
   "execution_count": 67,
   "metadata": {
    "id": "8NxF2NxDElsB"
   },
   "outputs": [],
   "source": [
    "df_prefeitosSP.to_csv(\"df_prefeitosSP.csv\", sep = \";\")"
   ]
  },
  {
   "cell_type": "markdown",
   "metadata": {
    "id": "DROb-cpd2DBT"
   },
   "source": [
    "### Deixar só os 2 candidatos mais votados na base principal"
   ]
  },
  {
   "cell_type": "code",
   "execution_count": 68,
   "metadata": {
    "id": "t4Hg5vTkfFGd"
   },
   "outputs": [],
   "source": [
    "df_prefeitosSP = df_prefeitosSP.sort_values([\"%votos\",'id_municipio_tse'],ascending=False).groupby('id_municipio_tse').head(2)"
   ]
  },
  {
   "cell_type": "code",
   "execution_count": 69,
   "metadata": {
    "colab": {
     "base_uri": "https://localhost:8080/",
     "height": 601
    },
    "executionInfo": {
     "elapsed": 190,
     "status": "ok",
     "timestamp": 1631907090473,
     "user": {
      "displayName": "Gabriel Caser",
      "photoUrl": "https://lh3.googleusercontent.com/a/default-user=s64",
      "userId": "03317079334303582914"
     },
     "user_tz": 180
    },
    "id": "29vew2XIAh12",
    "outputId": "09c49225-9a89-412f-8913-d3f772d47052"
   },
   "outputs": [
    {
     "data": {
      "text/html": [
       "<div>\n",
       "<style scoped>\n",
       "    .dataframe tbody tr th:only-of-type {\n",
       "        vertical-align: middle;\n",
       "    }\n",
       "\n",
       "    .dataframe tbody tr th {\n",
       "        vertical-align: top;\n",
       "    }\n",
       "\n",
       "    .dataframe thead th {\n",
       "        text-align: right;\n",
       "    }\n",
       "</style>\n",
       "<table border=\"1\" class=\"dataframe\">\n",
       "  <thead>\n",
       "    <tr style=\"text-align: right;\">\n",
       "      <th></th>\n",
       "      <th>ano</th>\n",
       "      <th>turno</th>\n",
       "      <th>tipo_eleicao</th>\n",
       "      <th>sigla_uf</th>\n",
       "      <th>id_municipio</th>\n",
       "      <th>id_municipio_tse</th>\n",
       "      <th>cargo</th>\n",
       "      <th>sigla_partido</th>\n",
       "      <th>numero_candidato</th>\n",
       "      <th>sequencial_candidato</th>\n",
       "      <th>id_candidato_bd</th>\n",
       "      <th>resultado</th>\n",
       "      <th>votos</th>\n",
       "      <th>total_votos</th>\n",
       "      <th>%votos</th>\n",
       "      <th>dif_votos</th>\n",
       "    </tr>\n",
       "  </thead>\n",
       "  <tbody>\n",
       "    <tr>\n",
       "      <th>985</th>\n",
       "      <td>2020</td>\n",
       "      <td>1</td>\n",
       "      <td>eleicao ordinaria</td>\n",
       "      <td>SP</td>\n",
       "      <td>3522505</td>\n",
       "      <td>65510</td>\n",
       "      <td>prefeito</td>\n",
       "      <td>PODE</td>\n",
       "      <td>19</td>\n",
       "      <td>250000635262</td>\n",
       "      <td>1704804</td>\n",
       "      <td>eleito</td>\n",
       "      <td>105494</td>\n",
       "      <td>106580</td>\n",
       "      <td>0.98981</td>\n",
       "      <td>0.97962</td>\n",
       "    </tr>\n",
       "    <tr>\n",
       "      <th>358</th>\n",
       "      <td>2020</td>\n",
       "      <td>1</td>\n",
       "      <td>eleicao ordinaria</td>\n",
       "      <td>SP</td>\n",
       "      <td>3508108</td>\n",
       "      <td>62634</td>\n",
       "      <td>prefeito</td>\n",
       "      <td>REPUBLICANOS</td>\n",
       "      <td>10</td>\n",
       "      <td>250000870308</td>\n",
       "      <td>1667613</td>\n",
       "      <td>eleito</td>\n",
       "      <td>6753</td>\n",
       "      <td>6922</td>\n",
       "      <td>0.97559</td>\n",
       "      <td>0.95118</td>\n",
       "    </tr>\n",
       "    <tr>\n",
       "      <th>1821</th>\n",
       "      <td>2020</td>\n",
       "      <td>1</td>\n",
       "      <td>eleicao ordinaria</td>\n",
       "      <td>SP</td>\n",
       "      <td>3543006</td>\n",
       "      <td>69612</td>\n",
       "      <td>prefeito</td>\n",
       "      <td>PP</td>\n",
       "      <td>11</td>\n",
       "      <td>250000893233</td>\n",
       "      <td>606804</td>\n",
       "      <td>eleito</td>\n",
       "      <td>5914</td>\n",
       "      <td>6123</td>\n",
       "      <td>0.96587</td>\n",
       "      <td>0.93174</td>\n",
       "    </tr>\n",
       "    <tr>\n",
       "      <th>1801</th>\n",
       "      <td>2020</td>\n",
       "      <td>1</td>\n",
       "      <td>eleicao ordinaria</td>\n",
       "      <td>SP</td>\n",
       "      <td>3542404</td>\n",
       "      <td>69493</td>\n",
       "      <td>prefeito</td>\n",
       "      <td>PSDB</td>\n",
       "      <td>45</td>\n",
       "      <td>250001140376</td>\n",
       "      <td>1486575</td>\n",
       "      <td>eleito</td>\n",
       "      <td>6120</td>\n",
       "      <td>6473</td>\n",
       "      <td>0.94547</td>\n",
       "      <td>0.89094</td>\n",
       "    </tr>\n",
       "    <tr>\n",
       "      <th>2388</th>\n",
       "      <td>2020</td>\n",
       "      <td>1</td>\n",
       "      <td>eleicao ordinaria</td>\n",
       "      <td>SP</td>\n",
       "      <td>3556008</td>\n",
       "      <td>72214</td>\n",
       "      <td>prefeito</td>\n",
       "      <td>DEM</td>\n",
       "      <td>25</td>\n",
       "      <td>250000986935</td>\n",
       "      <td>650432</td>\n",
       "      <td>eleito</td>\n",
       "      <td>4563</td>\n",
       "      <td>4898</td>\n",
       "      <td>0.93160</td>\n",
       "      <td>0.87688</td>\n",
       "    </tr>\n",
       "  </tbody>\n",
       "</table>\n",
       "</div>"
      ],
      "text/plain": [
       "       ano  turno       tipo_eleicao sigla_uf id_municipio id_municipio_tse  \\\n",
       "985   2020      1  eleicao ordinaria       SP      3522505            65510   \n",
       "358   2020      1  eleicao ordinaria       SP      3508108            62634   \n",
       "1821  2020      1  eleicao ordinaria       SP      3543006            69612   \n",
       "1801  2020      1  eleicao ordinaria       SP      3542404            69493   \n",
       "2388  2020      1  eleicao ordinaria       SP      3556008            72214   \n",
       "\n",
       "         cargo sigla_partido numero_candidato sequencial_candidato  \\\n",
       "985   prefeito          PODE               19         250000635262   \n",
       "358   prefeito  REPUBLICANOS               10         250000870308   \n",
       "1821  prefeito            PP               11         250000893233   \n",
       "1801  prefeito          PSDB               45         250001140376   \n",
       "2388  prefeito           DEM               25         250000986935   \n",
       "\n",
       "     id_candidato_bd resultado   votos  total_votos   %votos  dif_votos  \n",
       "985          1704804    eleito  105494       106580  0.98981    0.97962  \n",
       "358          1667613    eleito    6753         6922  0.97559    0.95118  \n",
       "1821          606804    eleito    5914         6123  0.96587    0.93174  \n",
       "1801         1486575    eleito    6120         6473  0.94547    0.89094  \n",
       "2388          650432    eleito    4563         4898  0.93160    0.87688  "
      ]
     },
     "execution_count": 69,
     "metadata": {},
     "output_type": "execute_result"
    }
   ],
   "source": [
    "df_prefeitosSP.head()"
   ]
  },
  {
   "cell_type": "markdown",
   "metadata": {
    "id": "E65S6-ImLcZd"
   },
   "source": [
    "## Criando Coluna \"Governismo\""
   ]
  },
  {
   "cell_type": "code",
   "execution_count": 70,
   "metadata": {
    "colab": {
     "base_uri": "https://localhost:8080/"
    },
    "executionInfo": {
     "elapsed": 198,
     "status": "ok",
     "timestamp": 1631907097861,
     "user": {
      "displayName": "Gabriel Caser",
      "photoUrl": "https://lh3.googleusercontent.com/a/default-user=s64",
      "userId": "03317079334303582914"
     },
     "user_tz": 180
    },
    "id": "tUHPLPkxQB67",
    "outputId": "a3c7188b-c6d0-4ea3-a855-0b84d1ee72fd"
   },
   "outputs": [
    {
     "data": {
      "text/plain": [
       "15           AVANTE\n",
       "9         CIDADANIA\n",
       "24               DC\n",
       "4               DEM\n",
       "7               MDB\n",
       "27             NOVO\n",
       "10         PATRIOTA\n",
       "14          PC do B\n",
       "13              PDT\n",
       "8                PL\n",
       "23              PMN\n",
       "0              PODE\n",
       "2                PP\n",
       "21             PROS\n",
       "22             PRTB\n",
       "11              PSB\n",
       "17              PSC\n",
       "6               PSD\n",
       "3              PSDB\n",
       "12              PSL\n",
       "18             PSOL\n",
       "20               PT\n",
       "5               PTB\n",
       "25              PTC\n",
       "16               PV\n",
       "26             REDE\n",
       "1      REPUBLICANOS\n",
       "19    SOLIDARIEDADE\n",
       "dtype: object"
      ]
     },
     "execution_count": 70,
     "metadata": {},
     "output_type": "execute_result"
    }
   ],
   "source": [
    "pd.Series(df_prefeitosSP[\"sigla_partido\"].unique()).sort_values()"
   ]
  },
  {
   "cell_type": "code",
   "execution_count": 74,
   "metadata": {
    "id": "Y4rs5XH9T2HF"
   },
   "outputs": [],
   "source": [
    "governismo = pd.read_csv(\"Aderencia_governista_2.csv\", sep = \";\")"
   ]
  },
  {
   "cell_type": "code",
   "execution_count": 75,
   "metadata": {
    "colab": {
     "base_uri": "https://localhost:8080/",
     "height": 784
    },
    "executionInfo": {
     "elapsed": 176,
     "status": "ok",
     "timestamp": 1631907097867,
     "user": {
      "displayName": "Gabriel Caser",
      "photoUrl": "https://lh3.googleusercontent.com/a/default-user=s64",
      "userId": "03317079334303582914"
     },
     "user_tz": 180
    },
    "id": "rPumr4oIXnUI",
    "outputId": "bc072691-5e2f-42d9-ea0f-06a2ac8449ca"
   },
   "outputs": [
    {
     "data": {
      "text/html": [
       "<div>\n",
       "<style scoped>\n",
       "    .dataframe tbody tr th:only-of-type {\n",
       "        vertical-align: middle;\n",
       "    }\n",
       "\n",
       "    .dataframe tbody tr th {\n",
       "        vertical-align: top;\n",
       "    }\n",
       "\n",
       "    .dataframe thead th {\n",
       "        text-align: right;\n",
       "    }\n",
       "</style>\n",
       "<table border=\"1\" class=\"dataframe\">\n",
       "  <thead>\n",
       "    <tr style=\"text-align: right;\">\n",
       "      <th></th>\n",
       "      <th>Partido</th>\n",
       "      <th>Aderencia</th>\n",
       "      <th>Governismo</th>\n",
       "    </tr>\n",
       "  </thead>\n",
       "  <tbody>\n",
       "    <tr>\n",
       "      <th>0</th>\n",
       "      <td>AVANTE</td>\n",
       "      <td>74</td>\n",
       "      <td>1</td>\n",
       "    </tr>\n",
       "    <tr>\n",
       "      <th>1</th>\n",
       "      <td>CIDADANIA</td>\n",
       "      <td>87</td>\n",
       "      <td>1</td>\n",
       "    </tr>\n",
       "    <tr>\n",
       "      <th>2</th>\n",
       "      <td>DEM</td>\n",
       "      <td>93</td>\n",
       "      <td>1</td>\n",
       "    </tr>\n",
       "    <tr>\n",
       "      <th>3</th>\n",
       "      <td>MDB</td>\n",
       "      <td>91</td>\n",
       "      <td>1</td>\n",
       "    </tr>\n",
       "    <tr>\n",
       "      <th>4</th>\n",
       "      <td>NOVO</td>\n",
       "      <td>92</td>\n",
       "      <td>1</td>\n",
       "    </tr>\n",
       "    <tr>\n",
       "      <th>5</th>\n",
       "      <td>PATRIOTA</td>\n",
       "      <td>94</td>\n",
       "      <td>1</td>\n",
       "    </tr>\n",
       "    <tr>\n",
       "      <th>6</th>\n",
       "      <td>PC do B</td>\n",
       "      <td>29</td>\n",
       "      <td>0</td>\n",
       "    </tr>\n",
       "    <tr>\n",
       "      <th>7</th>\n",
       "      <td>PDT</td>\n",
       "      <td>48</td>\n",
       "      <td>0</td>\n",
       "    </tr>\n",
       "    <tr>\n",
       "      <th>8</th>\n",
       "      <td>PL</td>\n",
       "      <td>90</td>\n",
       "      <td>1</td>\n",
       "    </tr>\n",
       "    <tr>\n",
       "      <th>9</th>\n",
       "      <td>PODE</td>\n",
       "      <td>77</td>\n",
       "      <td>1</td>\n",
       "    </tr>\n",
       "    <tr>\n",
       "      <th>10</th>\n",
       "      <td>PP</td>\n",
       "      <td>91</td>\n",
       "      <td>1</td>\n",
       "    </tr>\n",
       "    <tr>\n",
       "      <th>11</th>\n",
       "      <td>PROS</td>\n",
       "      <td>75</td>\n",
       "      <td>1</td>\n",
       "    </tr>\n",
       "    <tr>\n",
       "      <th>12</th>\n",
       "      <td>PSB</td>\n",
       "      <td>46</td>\n",
       "      <td>0</td>\n",
       "    </tr>\n",
       "    <tr>\n",
       "      <th>13</th>\n",
       "      <td>PSC</td>\n",
       "      <td>93</td>\n",
       "      <td>1</td>\n",
       "    </tr>\n",
       "    <tr>\n",
       "      <th>14</th>\n",
       "      <td>PSD</td>\n",
       "      <td>90</td>\n",
       "      <td>1</td>\n",
       "    </tr>\n",
       "    <tr>\n",
       "      <th>15</th>\n",
       "      <td>PSDB</td>\n",
       "      <td>92</td>\n",
       "      <td>1</td>\n",
       "    </tr>\n",
       "    <tr>\n",
       "      <th>16</th>\n",
       "      <td>PSL</td>\n",
       "      <td>97</td>\n",
       "      <td>1</td>\n",
       "    </tr>\n",
       "    <tr>\n",
       "      <th>17</th>\n",
       "      <td>PSOL</td>\n",
       "      <td>15</td>\n",
       "      <td>0</td>\n",
       "    </tr>\n",
       "    <tr>\n",
       "      <th>18</th>\n",
       "      <td>PT</td>\n",
       "      <td>20</td>\n",
       "      <td>0</td>\n",
       "    </tr>\n",
       "    <tr>\n",
       "      <th>19</th>\n",
       "      <td>PTB</td>\n",
       "      <td>90</td>\n",
       "      <td>1</td>\n",
       "    </tr>\n",
       "    <tr>\n",
       "      <th>20</th>\n",
       "      <td>PV</td>\n",
       "      <td>68</td>\n",
       "      <td>1</td>\n",
       "    </tr>\n",
       "    <tr>\n",
       "      <th>21</th>\n",
       "      <td>REDE</td>\n",
       "      <td>36</td>\n",
       "      <td>0</td>\n",
       "    </tr>\n",
       "    <tr>\n",
       "      <th>22</th>\n",
       "      <td>REPUBLICANOS</td>\n",
       "      <td>91</td>\n",
       "      <td>1</td>\n",
       "    </tr>\n",
       "    <tr>\n",
       "      <th>23</th>\n",
       "      <td>SOLIDARIEDADE</td>\n",
       "      <td>89</td>\n",
       "      <td>1</td>\n",
       "    </tr>\n",
       "  </tbody>\n",
       "</table>\n",
       "</div>"
      ],
      "text/plain": [
       "          Partido  Aderencia  Governismo\n",
       "0          AVANTE         74           1\n",
       "1       CIDADANIA         87           1\n",
       "2             DEM         93           1\n",
       "3             MDB         91           1\n",
       "4            NOVO         92           1\n",
       "5        PATRIOTA         94           1\n",
       "6         PC do B         29           0\n",
       "7             PDT         48           0\n",
       "8              PL         90           1\n",
       "9            PODE         77           1\n",
       "10             PP         91           1\n",
       "11           PROS         75           1\n",
       "12            PSB         46           0\n",
       "13            PSC         93           1\n",
       "14            PSD         90           1\n",
       "15           PSDB         92           1\n",
       "16            PSL         97           1\n",
       "17           PSOL         15           0\n",
       "18             PT         20           0\n",
       "19            PTB         90           1\n",
       "20             PV         68           1\n",
       "21           REDE         36           0\n",
       "22   REPUBLICANOS         91           1\n",
       "23  SOLIDARIEDADE         89           1"
      ]
     },
     "execution_count": 75,
     "metadata": {},
     "output_type": "execute_result"
    }
   ],
   "source": [
    "governismo "
   ]
  },
  {
   "cell_type": "code",
   "execution_count": 76,
   "metadata": {
    "colab": {
     "base_uri": "https://localhost:8080/"
    },
    "executionInfo": {
     "elapsed": 328,
     "status": "ok",
     "timestamp": 1631907139782,
     "user": {
      "displayName": "Gabriel Caser",
      "photoUrl": "https://lh3.googleusercontent.com/a/default-user=s64",
      "userId": "03317079334303582914"
     },
     "user_tz": 180
    },
    "id": "zoQNQgm6ijWA",
    "outputId": "ffe049d4-0c11-439e-9b72-e95b4c0d2e01"
   },
   "outputs": [
    {
     "data": {
      "text/plain": [
       "0"
      ]
     },
     "execution_count": 76,
     "metadata": {},
     "output_type": "execute_result"
    }
   ],
   "source": [
    "governismo[\"Governismo\"][15] = 0  # Colocando PSDB como Governismo = 0\n",
    "governismo[\"Governismo\"][15]"
   ]
  },
  {
   "cell_type": "code",
   "execution_count": 77,
   "metadata": {
    "id": "kG9afJAnYl3M"
   },
   "outputs": [],
   "source": [
    "governismo.rename(columns = {\"Partido\": \"sigla_partido\"}, inplace = True)"
   ]
  },
  {
   "cell_type": "code",
   "execution_count": 78,
   "metadata": {
    "id": "g6ydm4ZHXzAC"
   },
   "outputs": [],
   "source": [
    "df_prefeitosSP = df_prefeitosSP.merge(governismo, how = \"inner\", on = \"sigla_partido\")"
   ]
  },
  {
   "cell_type": "code",
   "execution_count": 79,
   "metadata": {
    "colab": {
     "base_uri": "https://localhost:8080/",
     "height": 163
    },
    "executionInfo": {
     "elapsed": 49,
     "status": "ok",
     "timestamp": 1631907149583,
     "user": {
      "displayName": "Gabriel Caser",
      "photoUrl": "https://lh3.googleusercontent.com/a/default-user=s64",
      "userId": "03317079334303582914"
     },
     "user_tz": 180
    },
    "id": "M8-s7f7fdZ8z",
    "outputId": "8e9758cb-fb62-489b-baa3-526270d85d7d"
   },
   "outputs": [
    {
     "data": {
      "text/html": [
       "<div>\n",
       "<style scoped>\n",
       "    .dataframe tbody tr th:only-of-type {\n",
       "        vertical-align: middle;\n",
       "    }\n",
       "\n",
       "    .dataframe tbody tr th {\n",
       "        vertical-align: top;\n",
       "    }\n",
       "\n",
       "    .dataframe thead th {\n",
       "        text-align: right;\n",
       "    }\n",
       "</style>\n",
       "<table border=\"1\" class=\"dataframe\">\n",
       "  <thead>\n",
       "    <tr style=\"text-align: right;\">\n",
       "      <th></th>\n",
       "      <th>ano</th>\n",
       "      <th>turno</th>\n",
       "      <th>tipo_eleicao</th>\n",
       "      <th>sigla_uf</th>\n",
       "      <th>id_municipio</th>\n",
       "      <th>id_municipio_tse</th>\n",
       "      <th>cargo</th>\n",
       "      <th>sigla_partido</th>\n",
       "      <th>numero_candidato</th>\n",
       "      <th>sequencial_candidato</th>\n",
       "      <th>id_candidato_bd</th>\n",
       "      <th>resultado</th>\n",
       "      <th>votos</th>\n",
       "      <th>total_votos</th>\n",
       "      <th>%votos</th>\n",
       "      <th>dif_votos</th>\n",
       "      <th>Aderencia</th>\n",
       "      <th>Governismo</th>\n",
       "    </tr>\n",
       "  </thead>\n",
       "  <tbody>\n",
       "    <tr>\n",
       "      <th>638</th>\n",
       "      <td>2020</td>\n",
       "      <td>1</td>\n",
       "      <td>eleicao ordinaria</td>\n",
       "      <td>SP</td>\n",
       "      <td>3505609</td>\n",
       "      <td>62111</td>\n",
       "      <td>prefeito</td>\n",
       "      <td>PTB</td>\n",
       "      <td>14</td>\n",
       "      <td>250000882397</td>\n",
       "      <td>1041847</td>\n",
       "      <td>nao eleito</td>\n",
       "      <td>6260</td>\n",
       "      <td>18184</td>\n",
       "      <td>0.34426</td>\n",
       "      <td>0.02865</td>\n",
       "      <td>90</td>\n",
       "      <td>1</td>\n",
       "    </tr>\n",
       "    <tr>\n",
       "      <th>967</th>\n",
       "      <td>2020</td>\n",
       "      <td>1</td>\n",
       "      <td>eleicao ordinaria</td>\n",
       "      <td>SP</td>\n",
       "      <td>3505609</td>\n",
       "      <td>62111</td>\n",
       "      <td>prefeito</td>\n",
       "      <td>PL</td>\n",
       "      <td>22</td>\n",
       "      <td>250000810374</td>\n",
       "      <td>917436</td>\n",
       "      <td>eleito</td>\n",
       "      <td>6781</td>\n",
       "      <td>18184</td>\n",
       "      <td>0.37291</td>\n",
       "      <td>0.02865</td>\n",
       "      <td>90</td>\n",
       "      <td>1</td>\n",
       "    </tr>\n",
       "  </tbody>\n",
       "</table>\n",
       "</div>"
      ],
      "text/plain": [
       "      ano  turno       tipo_eleicao sigla_uf id_municipio id_municipio_tse  \\\n",
       "638  2020      1  eleicao ordinaria       SP      3505609            62111   \n",
       "967  2020      1  eleicao ordinaria       SP      3505609            62111   \n",
       "\n",
       "        cargo sigla_partido numero_candidato sequencial_candidato  \\\n",
       "638  prefeito           PTB               14         250000882397   \n",
       "967  prefeito            PL               22         250000810374   \n",
       "\n",
       "    id_candidato_bd   resultado  votos  total_votos   %votos  dif_votos  \\\n",
       "638         1041847  nao eleito   6260        18184  0.34426    0.02865   \n",
       "967          917436      eleito   6781        18184  0.37291    0.02865   \n",
       "\n",
       "     Aderencia  Governismo  \n",
       "638         90           1  \n",
       "967         90           1  "
      ]
     },
     "execution_count": 79,
     "metadata": {},
     "output_type": "execute_result"
    }
   ],
   "source": [
    "df_prefeitosSP.query(\"id_municipio_tse == '62111'\")"
   ]
  },
  {
   "cell_type": "code",
   "execution_count": 80,
   "metadata": {
    "colab": {
     "base_uri": "https://localhost:8080/"
    },
    "executionInfo": {
     "elapsed": 52,
     "status": "ok",
     "timestamp": 1631907149595,
     "user": {
      "displayName": "Gabriel Caser",
      "photoUrl": "https://lh3.googleusercontent.com/a/default-user=s64",
      "userId": "03317079334303582914"
     },
     "user_tz": 180
    },
    "id": "hlY-t9c-YPab",
    "outputId": "83950ad1-0fd3-4f25-f3b0-e66c60de9546"
   },
   "outputs": [
    {
     "data": {
      "text/plain": [
       "(64, 8)"
      ]
     },
     "execution_count": 80,
     "metadata": {},
     "output_type": "execute_result"
    }
   ],
   "source": [
    "df_prefeitosSP.groupby([\"id_municipio_tse\"]).sum().query(\"Governismo == 1 & dif_votos <= 0.10\").shape"
   ]
  },
  {
   "cell_type": "markdown",
   "metadata": {
    "id": "n6oFLAd4udG9"
   },
   "source": [
    "### Criar Coluna \"RDD\" para Primeiro Turno"
   ]
  },
  {
   "cell_type": "code",
   "execution_count": 81,
   "metadata": {
    "id": "tpHpOfxNqWrn"
   },
   "outputs": [],
   "source": [
    "teste = pd.DataFrame(df_prefeitosSP.groupby([\"id_municipio_tse\"]).Governismo.sum())"
   ]
  },
  {
   "cell_type": "code",
   "execution_count": 82,
   "metadata": {
    "id": "Gn5mInJ5r7Eg"
   },
   "outputs": [],
   "source": [
    "#teste[\"id_municipio_tse\"] = teste.index"
   ]
  },
  {
   "cell_type": "code",
   "execution_count": 83,
   "metadata": {
    "colab": {
     "base_uri": "https://localhost:8080/",
     "height": 445
    },
    "executionInfo": {
     "elapsed": 66,
     "status": "ok",
     "timestamp": 1631907150019,
     "user": {
      "displayName": "Gabriel Caser",
      "photoUrl": "https://lh3.googleusercontent.com/a/default-user=s64",
      "userId": "03317079334303582914"
     },
     "user_tz": 180
    },
    "id": "Yw4X5CMNtA2o",
    "outputId": "e47e5488-48ac-4cee-eec2-937f611e396e"
   },
   "outputs": [
    {
     "data": {
      "text/html": [
       "<div>\n",
       "<style scoped>\n",
       "    .dataframe tbody tr th:only-of-type {\n",
       "        vertical-align: middle;\n",
       "    }\n",
       "\n",
       "    .dataframe tbody tr th {\n",
       "        vertical-align: top;\n",
       "    }\n",
       "\n",
       "    .dataframe thead th {\n",
       "        text-align: right;\n",
       "    }\n",
       "</style>\n",
       "<table border=\"1\" class=\"dataframe\">\n",
       "  <thead>\n",
       "    <tr style=\"text-align: right;\">\n",
       "      <th></th>\n",
       "      <th>Governismo</th>\n",
       "    </tr>\n",
       "    <tr>\n",
       "      <th>id_municipio_tse</th>\n",
       "      <th></th>\n",
       "    </tr>\n",
       "  </thead>\n",
       "  <tbody>\n",
       "    <tr>\n",
       "      <th>61000</th>\n",
       "      <td>1</td>\n",
       "    </tr>\n",
       "    <tr>\n",
       "      <th>61018</th>\n",
       "      <td>2</td>\n",
       "    </tr>\n",
       "    <tr>\n",
       "      <th>61026</th>\n",
       "      <td>2</td>\n",
       "    </tr>\n",
       "    <tr>\n",
       "      <th>61034</th>\n",
       "      <td>1</td>\n",
       "    </tr>\n",
       "    <tr>\n",
       "      <th>61042</th>\n",
       "      <td>1</td>\n",
       "    </tr>\n",
       "    <tr>\n",
       "      <th>...</th>\n",
       "      <td>...</td>\n",
       "    </tr>\n",
       "    <tr>\n",
       "      <th>72397</th>\n",
       "      <td>2</td>\n",
       "    </tr>\n",
       "    <tr>\n",
       "      <th>72419</th>\n",
       "      <td>1</td>\n",
       "    </tr>\n",
       "    <tr>\n",
       "      <th>72435</th>\n",
       "      <td>1</td>\n",
       "    </tr>\n",
       "    <tr>\n",
       "      <th>72451</th>\n",
       "      <td>1</td>\n",
       "    </tr>\n",
       "    <tr>\n",
       "      <th>72737</th>\n",
       "      <td>2</td>\n",
       "    </tr>\n",
       "  </tbody>\n",
       "</table>\n",
       "<p>619 rows × 1 columns</p>\n",
       "</div>"
      ],
      "text/plain": [
       "                  Governismo\n",
       "id_municipio_tse            \n",
       "61000                      1\n",
       "61018                      2\n",
       "61026                      2\n",
       "61034                      1\n",
       "61042                      1\n",
       "...                      ...\n",
       "72397                      2\n",
       "72419                      1\n",
       "72435                      1\n",
       "72451                      1\n",
       "72737                      2\n",
       "\n",
       "[619 rows x 1 columns]"
      ]
     },
     "execution_count": 83,
     "metadata": {},
     "output_type": "execute_result"
    }
   ],
   "source": [
    "teste"
   ]
  },
  {
   "cell_type": "code",
   "execution_count": 84,
   "metadata": {
    "id": "rFQATwwLtsj-"
   },
   "outputs": [],
   "source": [
    "teste.rename(columns = {\"Governismo\": \"RDD\"}, inplace=True)"
   ]
  },
  {
   "cell_type": "code",
   "execution_count": 85,
   "metadata": {
    "id": "pXcQAByotDjl"
   },
   "outputs": [],
   "source": [
    "df_prefeitosSP = df_prefeitosSP.merge(teste, how = \"inner\", on = \"id_municipio_tse\")"
   ]
  },
  {
   "cell_type": "code",
   "execution_count": 86,
   "metadata": {
    "colab": {
     "base_uri": "https://localhost:8080/"
    },
    "executionInfo": {
     "elapsed": 66,
     "status": "ok",
     "timestamp": 1631907150034,
     "user": {
      "displayName": "Gabriel Caser",
      "photoUrl": "https://lh3.googleusercontent.com/a/default-user=s64",
      "userId": "03317079334303582914"
     },
     "user_tz": 180
    },
    "id": "Y_WOxOPZu3oY",
    "outputId": "f3a8d5af-7bbe-4a12-f94c-47b520f8d640"
   },
   "outputs": [
    {
     "data": {
      "text/plain": [
       "(601, 19)"
      ]
     },
     "execution_count": 86,
     "metadata": {},
     "output_type": "execute_result"
    }
   ],
   "source": [
    "df_prefeitosSP.query(\"RDD == 1\").shape"
   ]
  },
  {
   "cell_type": "code",
   "execution_count": 87,
   "metadata": {
    "id": "dt3Qkeh8vkTm"
   },
   "outputs": [],
   "source": [
    "df_RDD_1 = df_prefeitosSP.query(\"RDD == 1\")"
   ]
  },
  {
   "cell_type": "code",
   "execution_count": 93,
   "metadata": {
    "colab": {
     "base_uri": "https://localhost:8080/"
    },
    "executionInfo": {
     "elapsed": 105,
     "status": "ok",
     "timestamp": 1631907150670,
     "user": {
      "displayName": "Gabriel Caser",
      "photoUrl": "https://lh3.googleusercontent.com/a/default-user=s64",
      "userId": "03317079334303582914"
     },
     "user_tz": 180
    },
    "id": "7GyuXRexqJi7",
    "outputId": "8ed9ebbe-9c36-475e-a501-78008d1c5b68"
   },
   "outputs": [
    {
     "data": {
      "text/plain": [
       "(64, 19)"
      ]
     },
     "execution_count": 93,
     "metadata": {},
     "output_type": "execute_result"
    }
   ],
   "source": [
    "df_RDD_1.query(\"resultado == 'eleito' & dif_votos <= 0.05\").shape"
   ]
  },
  {
   "cell_type": "markdown",
   "metadata": {
    "id": "5LE-Gv95hBFm"
   },
   "source": [
    "# Salvando a base"
   ]
  },
  {
   "cell_type": "code",
   "execution_count": 89,
   "metadata": {
    "id": "TGMjbYCfLoIe"
   },
   "outputs": [],
   "source": [
    "df_RDD_1.to_csv(\"df_RDD.csv\", sep = \";\")"
   ]
  },
  {
   "cell_type": "code",
   "execution_count": 90,
   "metadata": {
    "id": "WnYllhQim6Y0"
   },
   "outputs": [],
   "source": [
    "df_RDD_1.to_csv(\"df_RDD_2.csv\", sep = \";\", encoding= \"UTF-8\")"
   ]
  },
  {
   "cell_type": "code",
   "execution_count": 91,
   "metadata": {
    "colab": {
     "base_uri": "https://localhost:8080/"
    },
    "executionInfo": {
     "elapsed": 284,
     "status": "ok",
     "timestamp": 1631909343607,
     "user": {
      "displayName": "Gabriel Caser",
      "photoUrl": "https://lh3.googleusercontent.com/a/default-user=s64",
      "userId": "03317079334303582914"
     },
     "user_tz": 180
    },
    "id": "AZ9PzNW9YEzx",
    "outputId": "1186efbe-08ac-425f-c8c5-e66499a20ecf"
   },
   "outputs": [
    {
     "data": {
      "text/plain": [
       "(601, 19)"
      ]
     },
     "execution_count": 91,
     "metadata": {},
     "output_type": "execute_result"
    }
   ],
   "source": [
    "df_RDD_1.shape"
   ]
  }
 ],
 "metadata": {
  "colab": {
   "authorship_tag": "ABX9TyORyCPxPZOz+deYE7xtsdKm",
   "collapsed_sections": [
    "zJynUPJjoo3k",
    "SLpdTeo-gYtO",
    "dWuTBkqwgTyL",
    "Y5BCcWV0kYjC",
    "7CmgPmv6kTnK",
    "ppAloWZIotgI",
    "UFqCEL3-BTSS",
    "0kpR8_rvrrLq",
    "wHeRxsLkIcU0",
    "3X0pyjrSnxiz"
   ],
   "name": "Trabalho Rodrigo",
   "provenance": []
  },
  "kernelspec": {
   "display_name": "Python 3",
   "language": "python",
   "name": "python3"
  },
  "language_info": {
   "codemirror_mode": {
    "name": "ipython",
    "version": 3
   },
   "file_extension": ".py",
   "mimetype": "text/x-python",
   "name": "python",
   "nbconvert_exporter": "python",
   "pygments_lexer": "ipython3",
   "version": "3.8.5"
  }
 },
 "nbformat": 4,
 "nbformat_minor": 1
}
